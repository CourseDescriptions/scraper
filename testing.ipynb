{
 "cells": [
  {
   "cell_type": "code",
   "execution_count": null,
   "id": "7d89ed18-609b-424b-93c3-b9cf998be7d8",
   "metadata": {},
   "outputs": [],
   "source": [
    "import requests\n",
    "from bs4 import BeautifulSoup"
   ]
  },
  {
   "cell_type": "code",
   "execution_count": null,
   "id": "a977f9fb-e397-4b0d-9854-3c3a6f6aa150",
   "metadata": {},
   "outputs": [],
   "source": [
    "url = \"http://catalog.csulb.edu/preview_course_nopop.php?catoid=10&coid=97424\"\n",
    "response = requests.get(url)\n",
    "soup = BeautifulSoup(response.text)"
   ]
  },
  {
   "cell_type": "code",
   "execution_count": null,
   "id": "63ee8bf3-0b1e-4246-b48c-c21137fc404d",
   "metadata": {},
   "outputs": [],
   "source": [
    "from scraper.common import fetch_soup, _fetch, get_cache_path_for_url"
   ]
  },
  {
   "cell_type": "code",
   "execution_count": null,
   "id": "cfa206cb",
   "metadata": {},
   "outputs": [
    {
     "data": {
      "text/plain": [
       "<h1 id=\"course_preview_title\">CECS 590 - Selected Topics in Computer Science</h1>\n"
      ]
     },
     "metadata": {},
     "output_type": "display_data"
    }
   ],
   "source": [
    "# url = \"https://catalog.csueastbay.edu/preview_course_nopop.php?catoid=35&coid=144185\"\n",
    "url = \"http://catalog.csulb.edu/preview_course_nopop.php?catoid=10&coid=92358\"\n",
    "# cachePath = get_cache_path_for_url(url)\n",
    "# _fetch(url, cachePath, True)\n",
    "\n",
    "soup = fetch_soup(url, True)\n",
    "print(soup.select_one(\"#course_preview_title\"))"
   ]
  },
  {
   "cell_type": "code",
   "execution_count": null,
   "id": "4dd38f1d",
   "metadata": {},
   "outputs": [],
   "source": []
  }
 ],
 "metadata": {
  "kernelspec": {
   "display_name": "Python 3 (ipykernel)",
   "language": "python",
   "name": "python3"
  },
  "language_info": {
   "codemirror_mode": {
    "name": "ipython",
    "version": 3
   },
   "file_extension": ".py",
   "mimetype": "text/x-python",
   "name": "python",
   "nbconvert_exporter": "python",
   "pygments_lexer": "ipython3",
   "version": "3.13.2"
  }
 },
 "nbformat": 4,
 "nbformat_minor": 5
}
