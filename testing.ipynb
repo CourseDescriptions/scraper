{
 "cells": [
  {
   "cell_type": "code",
   "execution_count": 6,
   "id": "7d89ed18-609b-424b-93c3-b9cf998be7d8",
   "metadata": {},
   "outputs": [],
   "source": [
    "import requests\n",
    "from bs4 import BeautifulSoup"
   ]
  },
  {
   "cell_type": "code",
   "execution_count": 7,
   "id": "a977f9fb-e397-4b0d-9854-3c3a6f6aa150",
   "metadata": {},
   "outputs": [],
   "source": [
    "url = \"http://catalog.csulb.edu/preview_course_nopop.php?catoid=10&coid=97424\"\n",
    "response = requests.get(url)\n",
    "soup = BeautifulSoup(response.text)"
   ]
  },
  {
   "cell_type": "code",
   "execution_count": null,
   "id": "cfa206cb",
   "metadata": {},
   "outputs": [
    {
     "data": {
      "text/plain": [
       "(3 units) Prerequisite: or A human geography approach to examining intersections of gender, place and culture. Topics include: body spaces; geographies of sexualities; emotion, care and health; migration; environmental and social justice; feminist post-structural theories and philosophies; and feminist methodological approaches to geographic research. Letter grade only (A-F). Same course as . Not open for credit to students with credit in .\n"
      ]
     },
     "metadata": {},
     "output_type": "display_data"
    }
   ],
   "source": [
    "from scraper.common import fetch_soup, _fetch, get_cache_path_for_url\n",
    "from scraper.moderncampus import extract\n",
    "\n",
    "# url = \"https://catalog.csueastbay.edu/preview_course_nopop.php?catoid=35&coid=144185\"\n",
    "# url = \"http://catalog.csulb.edu/preview_course_nopop.php?catoid=10&coid=92358\"\n",
    "# cachePath = get_cache_path_for_url(url)\n",
    "# _fetch(url, cachePath, True)\n",
    "\n",
    "url = \"http://catalog.csulb.edu/preview_course_nopop.php?catoid=10&coid=96715\"\n",
    "soup = fetch_soup(url, True)\n",
    "print(extract(soup))"
   ]
  },
  {
   "cell_type": "code",
   "execution_count": null,
   "id": "7e9b4fd7",
   "metadata": {},
   "outputs": [],
   "source": []
  }
 ],
 "metadata": {
  "kernelspec": {
   "display_name": "Python 3 (ipykernel)",
   "language": "python",
   "name": "python3"
  },
  "language_info": {
   "codemirror_mode": {
    "name": "ipython",
    "version": 3
   },
   "file_extension": ".py",
   "mimetype": "text/x-python",
   "name": "python",
   "nbconvert_exporter": "python",
   "pygments_lexer": "ipython3",
   "version": "3.13.2"
  }
 },
 "nbformat": 4,
 "nbformat_minor": 5
}
